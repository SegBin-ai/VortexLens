{
 "cells": [
  {
   "cell_type": "code",
   "execution_count": 7,
   "metadata": {},
   "outputs": [
    {
     "name": "stdout",
     "output_type": "stream",
     "text": [
      "0\n"
     ]
    }
   ],
   "source": [
    "def predict_number(n):\n",
    "    while n > 0:\n",
    "        highest_power_of_2 = 1 << (n.bit_length() - 1)\n",
    "        n = n - highest_power_of_2\n",
    "        if n == 0:\n",
    "            return 0\n",
    "        elif n == highest_power_of_2 // 2:\n",
    "            return 1\n",
    "        elif n == highest_power_of_2 - 1:\n",
    "            return 2\n",
    "\n",
    "    return 0\n",
    "\n",
    "# Reading input and processing\n",
    "print(predict_number(5))"
   ]
  },
  {
   "cell_type": "code",
   "execution_count": null,
   "metadata": {},
   "outputs": [],
   "source": []
  }
 ],
 "metadata": {
  "kernelspec": {
   "display_name": "Python 3",
   "language": "python",
   "name": "python3"
  },
  "language_info": {
   "codemirror_mode": {
    "name": "ipython",
    "version": 3
   },
   "file_extension": ".py",
   "mimetype": "text/x-python",
   "name": "python",
   "nbconvert_exporter": "python",
   "pygments_lexer": "ipython3",
   "version": "3.11.7"
  }
 },
 "nbformat": 4,
 "nbformat_minor": 2
}
