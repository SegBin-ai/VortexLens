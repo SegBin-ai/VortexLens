{
 "cells": [
  {
   "cell_type": "code",
   "execution_count": 7,
   "metadata": {},
   "outputs": [
    {
     "name": "stdout",
     "output_type": "stream",
     "text": [
      "0\n"
     ]
    }
   ],
   "source": [
    "def predict_number(n):\n",
    "    while n > 0:\n",
    "        highest_power_of_2 = 1 << (n.bit_length() - 1)\n",
    "        n = n - highest_power_of_2\n",
    "        if n == 0:\n",
    "            return 0\n",
    "        elif n == highest_power_of_2 // 2:\n",
    "            return 1\n",
    "        elif n == highest_power_of_2 - 1:\n",
    "            return 2\n",
    "\n",
    "    return 0\n",
    "\n",
    "# Reading input and processing\n",
    "print(predict_number(5))"
   ]
  },
  {
   "cell_type": "code",
   "execution_count": null,
   "metadata": {},
   "outputs": [],
   "source": [
    "from google.cloud import videointelligence_v1 as videointelligence\n",
    "from google.cloud import language_v1\n",
    "\n",
    "# Function to transcribe video\n",
    "def transcribe_video(gcs_uri):\n",
    "    video_client = videointelligence.VideoIntelligenceServiceClient()\n",
    "    features = [videointelligence.Feature.SPEECH_TRANSCRIPTION]\n",
    "    operation = video_client.annotate_video(\n",
    "        request={\"features\": features, \"input_uri\": gcs_uri}\n",
    "    )\n",
    "    result = operation.result(timeout=300)\n",
    "    transcription = \"\"\n",
    "    for speech_transcription in result.annotation_results[0].speech_transcriptions:\n",
    "        transcription += speech_transcription.alternatives[0].transcript + \" \"\n",
    "    return transcription.strip()\n",
    "\n",
    "# Function to analyze transcription and extract steps\n",
    "def analyze_text(text):\n",
    "    client = language_v1.LanguageServiceClient()\n",
    "    document = language_v1.Document(content=text, type_=language_v1.Document.Type.PLAIN_TEXT)\n",
    "    response = client.analyze_syntax(document=document)\n",
    "    \n",
    "    steps = []\n",
    "    current_step = ''\n",
    "    for token in response.tokens:\n",
    "        word = token.text.content\n",
    "        if word.lower() in ['step', 'then', 'next', 'after']:\n",
    "            if current_step:\n",
    "                steps.append(current_step.strip())\n",
    "            current_step = word\n",
    "        else:\n",
    "            current_step += ' ' + word\n",
    "\n",
    "    if current_step:\n",
    "        steps.append(current_step.strip())\n",
    "    \n",
    "    return steps\n",
    "\n",
    "# Main function\n",
    "def main():\n",
    "    gcs_uri = 'gs://[BUCKET_NAME]/[VIDEO_NAME]'\n",
    "    transcription = transcribe_video(gcs_uri)\n",
    "    steps = analyze_text(transcription)\n",
    "    \n",
    "    final_steps = []\n",
    "    for idx, step in enumerate(steps):\n",
    "        final_steps.append(f\"Step {idx + 1}: {step}\")\n",
    "\n",
    "    for step in final_steps:\n",
    "        print(step)\n",
    "\n",
    "if __name__ == \"__main__\":\n",
    "    main()\n"
   ]
  },
  {
   "cell_type": "code",
   "execution_count": null,
   "metadata": {},
   "outputs": [],
   "source": []
  }
 ],
 "metadata": {
  "kernelspec": {
   "display_name": "Python 3",
   "language": "python",
   "name": "python3"
  },
  "language_info": {
   "codemirror_mode": {
    "name": "ipython",
    "version": 3
   },
   "file_extension": ".py",
   "mimetype": "text/x-python",
   "name": "python",
   "nbconvert_exporter": "python",
   "pygments_lexer": "ipython3",
   "version": "3.11.7"
  }
 },
 "nbformat": 4,
 "nbformat_minor": 2
}
