{
 "cells": [
  {
   "cell_type": "code",
   "execution_count": 7,
   "metadata": {},
   "outputs": [
    {
     "name": "stdout",
     "output_type": "stream",
     "text": [
      "0\n"
     ]
    }
   ],
   "source": [
    "def predict_number(n):\n",
    "    while n > 0:\n",
    "        highest_power_of_2 = 1 << (n.bit_length() - 1)\n",
    "        n = n - highest_power_of_2\n",
    "        if n == 0:\n",
    "            return 0\n",
    "        elif n == highest_power_of_2 // 2:\n",
    "            return 1\n",
    "        elif n == highest_power_of_2 - 1:\n",
    "            return 2\n",
    "\n",
    "    return 0\n",
    "\n",
    "# Reading input and processing\n",
    "print(predict_number(5))"
   ]
  },
  {
   "cell_type": "code",
   "execution_count": 2,
   "metadata": {},
   "outputs": [
    {
     "ename": "KeyboardInterrupt",
     "evalue": "",
     "output_type": "error",
     "traceback": [
      "\u001b[0;31m---------------------------------------------------------------------------\u001b[0m",
      "\u001b[0;31mKeyboardInterrupt\u001b[0m                         Traceback (most recent call last)",
      "Cell \u001b[0;32mIn[2], line 53\u001b[0m\n\u001b[1;32m     50\u001b[0m         \u001b[38;5;28mprint\u001b[39m(step)\n\u001b[1;32m     52\u001b[0m \u001b[38;5;28;01mif\u001b[39;00m \u001b[38;5;18m__name__\u001b[39m \u001b[38;5;241m==\u001b[39m \u001b[38;5;124m\"\u001b[39m\u001b[38;5;124m__main__\u001b[39m\u001b[38;5;124m\"\u001b[39m:\n\u001b[0;32m---> 53\u001b[0m     \u001b[43mmain\u001b[49m\u001b[43m(\u001b[49m\u001b[43m)\u001b[49m\n",
      "Cell \u001b[0;32mIn[2], line 42\u001b[0m, in \u001b[0;36mmain\u001b[0;34m()\u001b[0m\n\u001b[1;32m     40\u001b[0m \u001b[38;5;28;01mdef\u001b[39;00m \u001b[38;5;21mmain\u001b[39m():\n\u001b[1;32m     41\u001b[0m     gcs_uri \u001b[38;5;241m=\u001b[39m \u001b[38;5;124m'\u001b[39m\u001b[38;5;124mgs://factory-work/VortexLens MVP Demo.mp4\u001b[39m\u001b[38;5;124m'\u001b[39m\n\u001b[0;32m---> 42\u001b[0m     transcription \u001b[38;5;241m=\u001b[39m \u001b[43mtranscribe_video\u001b[49m\u001b[43m(\u001b[49m\u001b[43mgcs_uri\u001b[49m\u001b[43m)\u001b[49m\n\u001b[1;32m     43\u001b[0m     steps \u001b[38;5;241m=\u001b[39m analyze_text(transcription)\n\u001b[1;32m     45\u001b[0m     final_steps \u001b[38;5;241m=\u001b[39m []\n",
      "Cell \u001b[0;32mIn[2], line 8\u001b[0m, in \u001b[0;36mtranscribe_video\u001b[0;34m(gcs_uri)\u001b[0m\n\u001b[1;32m      6\u001b[0m video_client \u001b[38;5;241m=\u001b[39m videointelligence\u001b[38;5;241m.\u001b[39mVideoIntelligenceServiceClient()\n\u001b[1;32m      7\u001b[0m features \u001b[38;5;241m=\u001b[39m [videointelligence\u001b[38;5;241m.\u001b[39mFeature\u001b[38;5;241m.\u001b[39mSPEECH_TRANSCRIPTION]\n\u001b[0;32m----> 8\u001b[0m operation \u001b[38;5;241m=\u001b[39m \u001b[43mvideo_client\u001b[49m\u001b[38;5;241;43m.\u001b[39;49m\u001b[43mannotate_video\u001b[49m\u001b[43m(\u001b[49m\n\u001b[1;32m      9\u001b[0m \u001b[43m    \u001b[49m\u001b[43mrequest\u001b[49m\u001b[38;5;241;43m=\u001b[39;49m\u001b[43m{\u001b[49m\u001b[38;5;124;43m\"\u001b[39;49m\u001b[38;5;124;43mfeatures\u001b[39;49m\u001b[38;5;124;43m\"\u001b[39;49m\u001b[43m:\u001b[49m\u001b[43m \u001b[49m\u001b[43mfeatures\u001b[49m\u001b[43m,\u001b[49m\u001b[43m \u001b[49m\u001b[38;5;124;43m\"\u001b[39;49m\u001b[38;5;124;43minput_uri\u001b[39;49m\u001b[38;5;124;43m\"\u001b[39;49m\u001b[43m:\u001b[49m\u001b[43m \u001b[49m\u001b[43mgcs_uri\u001b[49m\u001b[43m}\u001b[49m\n\u001b[1;32m     10\u001b[0m \u001b[43m\u001b[49m\u001b[43m)\u001b[49m\n\u001b[1;32m     11\u001b[0m result \u001b[38;5;241m=\u001b[39m operation\u001b[38;5;241m.\u001b[39mresult(timeout\u001b[38;5;241m=\u001b[39m\u001b[38;5;241m300\u001b[39m)\n\u001b[1;32m     12\u001b[0m transcription \u001b[38;5;241m=\u001b[39m \u001b[38;5;124m\"\u001b[39m\u001b[38;5;124m\"\u001b[39m\n",
      "File \u001b[0;32m/usr/local/lib/python3.11/site-packages/google/cloud/videointelligence_v1/services/video_intelligence_service/client.py:773\u001b[0m, in \u001b[0;36mVideoIntelligenceServiceClient.annotate_video\u001b[0;34m(self, request, input_uri, features, retry, timeout, metadata)\u001b[0m\n\u001b[1;32m    770\u001b[0m \u001b[38;5;28mself\u001b[39m\u001b[38;5;241m.\u001b[39m_validate_universe_domain()\n\u001b[1;32m    772\u001b[0m \u001b[38;5;66;03m# Send the request.\u001b[39;00m\n\u001b[0;32m--> 773\u001b[0m response \u001b[38;5;241m=\u001b[39m \u001b[43mrpc\u001b[49m\u001b[43m(\u001b[49m\n\u001b[1;32m    774\u001b[0m \u001b[43m    \u001b[49m\u001b[43mrequest\u001b[49m\u001b[43m,\u001b[49m\n\u001b[1;32m    775\u001b[0m \u001b[43m    \u001b[49m\u001b[43mretry\u001b[49m\u001b[38;5;241;43m=\u001b[39;49m\u001b[43mretry\u001b[49m\u001b[43m,\u001b[49m\n\u001b[1;32m    776\u001b[0m \u001b[43m    \u001b[49m\u001b[43mtimeout\u001b[49m\u001b[38;5;241;43m=\u001b[39;49m\u001b[43mtimeout\u001b[49m\u001b[43m,\u001b[49m\n\u001b[1;32m    777\u001b[0m \u001b[43m    \u001b[49m\u001b[43mmetadata\u001b[49m\u001b[38;5;241;43m=\u001b[39;49m\u001b[43mmetadata\u001b[49m\u001b[43m,\u001b[49m\n\u001b[1;32m    778\u001b[0m \u001b[43m\u001b[49m\u001b[43m)\u001b[49m\n\u001b[1;32m    780\u001b[0m \u001b[38;5;66;03m# Wrap the response in an operation future.\u001b[39;00m\n\u001b[1;32m    781\u001b[0m response \u001b[38;5;241m=\u001b[39m operation\u001b[38;5;241m.\u001b[39mfrom_gapic(\n\u001b[1;32m    782\u001b[0m     response,\n\u001b[1;32m    783\u001b[0m     \u001b[38;5;28mself\u001b[39m\u001b[38;5;241m.\u001b[39m_transport\u001b[38;5;241m.\u001b[39moperations_client,\n\u001b[1;32m    784\u001b[0m     video_intelligence\u001b[38;5;241m.\u001b[39mAnnotateVideoResponse,\n\u001b[1;32m    785\u001b[0m     metadata_type\u001b[38;5;241m=\u001b[39mvideo_intelligence\u001b[38;5;241m.\u001b[39mAnnotateVideoProgress,\n\u001b[1;32m    786\u001b[0m )\n",
      "File \u001b[0;32m/usr/local/lib/python3.11/site-packages/google/api_core/gapic_v1/method.py:113\u001b[0m, in \u001b[0;36m_GapicCallable.__call__\u001b[0;34m(self, timeout, retry, *args, **kwargs)\u001b[0m\n\u001b[1;32m    110\u001b[0m     metadata\u001b[38;5;241m.\u001b[39mextend(\u001b[38;5;28mself\u001b[39m\u001b[38;5;241m.\u001b[39m_metadata)\n\u001b[1;32m    111\u001b[0m     kwargs[\u001b[38;5;124m\"\u001b[39m\u001b[38;5;124mmetadata\u001b[39m\u001b[38;5;124m\"\u001b[39m] \u001b[38;5;241m=\u001b[39m metadata\n\u001b[0;32m--> 113\u001b[0m \u001b[38;5;28;01mreturn\u001b[39;00m \u001b[43mwrapped_func\u001b[49m\u001b[43m(\u001b[49m\u001b[38;5;241;43m*\u001b[39;49m\u001b[43margs\u001b[49m\u001b[43m,\u001b[49m\u001b[43m \u001b[49m\u001b[38;5;241;43m*\u001b[39;49m\u001b[38;5;241;43m*\u001b[39;49m\u001b[43mkwargs\u001b[49m\u001b[43m)\u001b[49m\n",
      "File \u001b[0;32m/usr/local/lib/python3.11/site-packages/google/api_core/retry.py:349\u001b[0m, in \u001b[0;36mRetry.__call__.<locals>.retry_wrapped_func\u001b[0;34m(*args, **kwargs)\u001b[0m\n\u001b[1;32m    345\u001b[0m target \u001b[38;5;241m=\u001b[39m functools\u001b[38;5;241m.\u001b[39mpartial(func, \u001b[38;5;241m*\u001b[39margs, \u001b[38;5;241m*\u001b[39m\u001b[38;5;241m*\u001b[39mkwargs)\n\u001b[1;32m    346\u001b[0m sleep_generator \u001b[38;5;241m=\u001b[39m exponential_sleep_generator(\n\u001b[1;32m    347\u001b[0m     \u001b[38;5;28mself\u001b[39m\u001b[38;5;241m.\u001b[39m_initial, \u001b[38;5;28mself\u001b[39m\u001b[38;5;241m.\u001b[39m_maximum, multiplier\u001b[38;5;241m=\u001b[39m\u001b[38;5;28mself\u001b[39m\u001b[38;5;241m.\u001b[39m_multiplier\n\u001b[1;32m    348\u001b[0m )\n\u001b[0;32m--> 349\u001b[0m \u001b[38;5;28;01mreturn\u001b[39;00m \u001b[43mretry_target\u001b[49m\u001b[43m(\u001b[49m\n\u001b[1;32m    350\u001b[0m \u001b[43m    \u001b[49m\u001b[43mtarget\u001b[49m\u001b[43m,\u001b[49m\n\u001b[1;32m    351\u001b[0m \u001b[43m    \u001b[49m\u001b[38;5;28;43mself\u001b[39;49m\u001b[38;5;241;43m.\u001b[39;49m\u001b[43m_predicate\u001b[49m\u001b[43m,\u001b[49m\n\u001b[1;32m    352\u001b[0m \u001b[43m    \u001b[49m\u001b[43msleep_generator\u001b[49m\u001b[43m,\u001b[49m\n\u001b[1;32m    353\u001b[0m \u001b[43m    \u001b[49m\u001b[38;5;28;43mself\u001b[39;49m\u001b[38;5;241;43m.\u001b[39;49m\u001b[43m_timeout\u001b[49m\u001b[43m,\u001b[49m\n\u001b[1;32m    354\u001b[0m \u001b[43m    \u001b[49m\u001b[43mon_error\u001b[49m\u001b[38;5;241;43m=\u001b[39;49m\u001b[43mon_error\u001b[49m\u001b[43m,\u001b[49m\n\u001b[1;32m    355\u001b[0m \u001b[43m\u001b[49m\u001b[43m)\u001b[49m\n",
      "File \u001b[0;32m/usr/local/lib/python3.11/site-packages/google/api_core/retry.py:217\u001b[0m, in \u001b[0;36mretry_target\u001b[0;34m(target, predicate, sleep_generator, timeout, on_error, **kwargs)\u001b[0m\n\u001b[1;32m    207\u001b[0m             \u001b[38;5;28;01mraise\u001b[39;00m exceptions\u001b[38;5;241m.\u001b[39mRetryError(\n\u001b[1;32m    208\u001b[0m                 \u001b[38;5;124m\"\u001b[39m\u001b[38;5;124mDeadline of \u001b[39m\u001b[38;5;132;01m{:.1f}\u001b[39;00m\u001b[38;5;124ms exceeded while calling target function\u001b[39m\u001b[38;5;124m\"\u001b[39m\u001b[38;5;241m.\u001b[39mformat(\n\u001b[1;32m    209\u001b[0m                     timeout\n\u001b[1;32m    210\u001b[0m                 ),\n\u001b[1;32m    211\u001b[0m                 last_exc,\n\u001b[1;32m    212\u001b[0m             ) \u001b[38;5;28;01mfrom\u001b[39;00m \u001b[38;5;21;01mlast_exc\u001b[39;00m\n\u001b[1;32m    214\u001b[0m     _LOGGER\u001b[38;5;241m.\u001b[39mdebug(\n\u001b[1;32m    215\u001b[0m         \u001b[38;5;124m\"\u001b[39m\u001b[38;5;124mRetrying due to \u001b[39m\u001b[38;5;132;01m{}\u001b[39;00m\u001b[38;5;124m, sleeping \u001b[39m\u001b[38;5;132;01m{:.1f}\u001b[39;00m\u001b[38;5;124ms ...\u001b[39m\u001b[38;5;124m\"\u001b[39m\u001b[38;5;241m.\u001b[39mformat(last_exc, sleep)\n\u001b[1;32m    216\u001b[0m     )\n\u001b[0;32m--> 217\u001b[0m     time\u001b[38;5;241m.\u001b[39msleep(sleep)\n\u001b[1;32m    219\u001b[0m \u001b[38;5;28;01mraise\u001b[39;00m \u001b[38;5;167;01mValueError\u001b[39;00m(\u001b[38;5;124m\"\u001b[39m\u001b[38;5;124mSleep generator stopped yielding sleep values.\u001b[39m\u001b[38;5;124m\"\u001b[39m)\n",
      "\u001b[0;31mKeyboardInterrupt\u001b[0m: "
     ]
    }
   ],
   "source": [
    "from google.cloud import videointelligence_v1 as videointelligence\n",
    "from google.cloud import language_v1\n",
    "\n",
    "# Function to transcribe video\n",
    "def transcribe_video(gcs_uri):\n",
    "    video_client = videointelligence.VideoIntelligenceServiceClient()\n",
    "    features = [videointelligence.Feature.SPEECH_TRANSCRIPTION]\n",
    "    operation = video_client.annotate_video(\n",
    "        request={\"features\": features, \"input_uri\": gcs_uri}\n",
    "    )\n",
    "    result = operation.result(timeout=300)\n",
    "    transcription = \"\"\n",
    "    for speech_transcription in result.annotation_results[0].speech_transcriptions:\n",
    "        transcription += speech_transcription.alternatives[0].transcript + \" \"\n",
    "    return transcription.strip()\n",
    "\n",
    "# Function to analyze transcription and extract steps\n",
    "def analyze_text(text):\n",
    "    client = language_v1.LanguageServiceClient()\n",
    "    document = language_v1.Document(content=text, type_=language_v1.Document.Type.PLAIN_TEXT)\n",
    "    response = client.analyze_syntax(document=document)\n",
    "    \n",
    "    steps = []\n",
    "    current_step = ''\n",
    "    for token in response.tokens:\n",
    "        word = token.text.content\n",
    "        if word.lower() in ['step', 'then', 'next', 'after']:\n",
    "            if current_step:\n",
    "                steps.append(current_step.strip())\n",
    "            current_step = word\n",
    "        else:\n",
    "            current_step += ' ' + word\n",
    "\n",
    "    if current_step:\n",
    "        steps.append(current_step.strip())\n",
    "    \n",
    "    return steps\n",
    "\n",
    "# Main function\n",
    "def main():\n",
    "    gcs_uri = 'gs://factory-work/VortexLens MVP Demo.mp4'\n",
    "    transcription = transcribe_video(gcs_uri)\n",
    "    steps = analyze_text(transcription)\n",
    "    \n",
    "    final_steps = []\n",
    "    for idx, step in enumerate(steps):\n",
    "        final_steps.append(f\"Step {idx + 1}: {step}\")\n",
    "\n",
    "    for step in final_steps:\n",
    "        print(step)\n",
    "\n",
    "if __name__ == \"__main__\":\n",
    "    main()\n"
   ]
  },
  {
   "cell_type": "code",
   "execution_count": null,
   "metadata": {},
   "outputs": [],
   "source": []
  }
 ],
 "metadata": {
  "kernelspec": {
   "display_name": "Python 3",
   "language": "python",
   "name": "python3"
  },
  "language_info": {
   "codemirror_mode": {
    "name": "ipython",
    "version": 3
   },
   "file_extension": ".py",
   "mimetype": "text/x-python",
   "name": "python",
   "nbconvert_exporter": "python",
   "pygments_lexer": "ipython3",
   "version": "3.11.7"
  }
 },
 "nbformat": 4,
 "nbformat_minor": 2
}
